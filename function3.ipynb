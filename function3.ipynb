{
  "nbformat": 4,
  "nbformat_minor": 0,
  "metadata": {
    "colab": {
      "provenance": []
    },
    "kernelspec": {
      "name": "python3",
      "display_name": "Python 3"
    },
    "language_info": {
      "name": "python"
    }
  },
  "cells": [
    {
      "cell_type": "code",
      "execution_count": null,
      "metadata": {
        "id": "VEi1pgyF8V7R"
      },
      "outputs": [],
      "source": []
    },
    {
      "cell_type": "markdown",
      "source": [
        "1  What is the difference between a function and a method in Python?\n",
        "\n",
        "\n",
        "Function\n",
        "\n",
        "A function is a block of code that performs a specific task.\n",
        "It is defined using the def keyword.\n",
        "It can be called independently.\n",
        "For example:"
      ],
      "metadata": {
        "id": "qjiUNazn8ej1"
      }
    },
    {
      "cell_type": "code",
      "source": [
        "def greet(name):\n",
        "  print(f\"Hello, {name}!\")\n",
        "\n",
        "greet(\"World\")  # Calling the function"
      ],
      "metadata": {
        "id": "_MG3EfQs8y2d"
      },
      "execution_count": null,
      "outputs": []
    },
    {
      "cell_type": "markdown",
      "source": [],
      "metadata": {
        "id": "Q6Mlw96583zW"
      }
    },
    {
      "cell_type": "markdown",
      "source": [
        "Method\n",
        "\n",
        "A method is a function that is associated with an object.\n",
        "It is defined within a class.\n",
        "It is called using the dot operator (.) on an object of the class.\n",
        "For example:"
      ],
      "metadata": {
        "id": "yPLpKVsc87jK"
      }
    },
    {
      "cell_type": "code",
      "source": [
        "lass Dog:\n",
        "  def bark(self):\n",
        "    print(\"Woof!\")\n",
        "\n",
        "my_dog = Dog()  # Creating an object of the class\n",
        "my_dog.bark()  # Calling the method on the object"
      ],
      "metadata": {
        "id": "y8dhQLIh89Vv"
      },
      "execution_count": null,
      "outputs": []
    },
    {
      "cell_type": "markdown",
      "source": [
        "Key Differences\n",
        "\n",
        "Association: Functions are independent, while methods are associated with objects.\n",
        "Calling: Functions are called directly, while methods are called on objects.\n",
        "Purpose: Functions perform general tasks, while methods operate on the data of an object."
      ],
      "metadata": {
        "id": "drrh0J_N9GVs"
      }
    },
    {
      "cell_type": "markdown",
      "source": [
        "2 . Explain the concept of function arguments and parameters in Python.\n",
        "\n",
        "Parameters\n",
        "\n",
        "Parameters are the names listed in the function definition.\n",
        "They act as placeholders for the values that will be passed to the function when it's called.\n",
        "For example, in the function definition def greet(name):, name is a parameter.\n",
        "Arguments\n",
        "\n",
        "Arguments are the actual values passed to the function when it's called.\n",
        "They are assigned to the corresponding parameters in the function definition.\n",
        "For example, in the function call greet(\"World\"), \"World\" is the argument.\n",
        "In simpler terms:\n",
        "\n",
        "Imagine a function as a recipe. Parameters are the ingredients listed in the recipe, and arguments are the actual ingredients you use when you cook.\n",
        "\n",
        "Types of Arguments\n",
        "\n",
        "There are two main types of arguments in Python:\n",
        "\n",
        "Positional Arguments:\n",
        "\n",
        "These arguments are passed in the order they are defined in the function.\n",
        "For example, in greet(\"World\"), \"World\" is a positional argument.\n",
        "Keyword Arguments:\n",
        "\n",
        "These arguments are passed with their parameter names.\n",
        "They can be passed in any order.\n",
        "For example, in greet(name=\"Alice\"), \"Alice\" is a keyword argument."
      ],
      "metadata": {
        "id": "pZ6G5Clc9Ige"
      }
    },
    {
      "cell_type": "code",
      "source": [
        "def greet(name, greeting=\"Hello\"):  # name and greeting are parameters\n",
        "  print(f\"{greeting}, {name}!\")\n",
        "\n",
        "greet(\"Bob\")  # \"Bob\" is a positional argument\n",
        "greet(\"Alice\", greeting=\"Hi\")  # \"Alice\" is positional, \"Hi\" is a keyword argument"
      ],
      "metadata": {
        "id": "eDVmGYiB9sGY"
      },
      "execution_count": null,
      "outputs": []
    },
    {
      "cell_type": "markdown",
      "source": [
        "3  What are the different ways to define and call a function in Python?\n",
        "\n",
        "Defining a Function\n",
        "\n",
        "Using the def keyword:"
      ],
      "metadata": {
        "id": "ViSbJ2uo9uMG"
      }
    },
    {
      "cell_type": "code",
      "source": [
        "def function_name(parameters):\n",
        "       # Function body\n",
        "       # ...\n",
        "       return value  # Optional return statement"
      ],
      "metadata": {
        "id": "PJJ_x0a4-GZh"
      },
      "execution_count": null,
      "outputs": []
    },
    {
      "cell_type": "markdown",
      "source": [
        "function_name: The name of the function.\n",
        "parameters: A comma-separated list of input parameters (optional).\n",
        "function body: The block of code that performs the function's task.\n",
        "return value: The value returned by the function (optional).\n",
        "Using the lambda keyword (for anonymous functions):\n",
        "lambda parameters: expression\n",
        "\n",
        "parameters: A comma-separated list of input parameters (optional).\n",
        "\n",
        "expression: A single expression that is evaluated and returned.\n",
        "\n",
        "Lambda functions are typically used for short, simple functions that don't need a full def statement.\n",
        "\n",
        "Calling a Function\n",
        "\n",
        "By name:\n",
        "function_name(arguments)\n",
        "Use code with caution\n",
        "function_name: The name of the function.\n",
        "arguments: A comma-separated list of values passed to the function (optional).\n",
        "Using a variable:\n",
        "\n",
        "If a function is assigned to a variable, you can call it using the variable name:"
      ],
      "metadata": {
        "id": "I3RzLiW0-H0C"
      }
    },
    {
      "cell_type": "code",
      "source": [
        "my_function = lambda x: x * 2\n",
        "   result = my_function(5)  # Calls the lambda function"
      ],
      "metadata": {
        "id": "GvEHSCpg-k3y"
      },
      "execution_count": null,
      "outputs": []
    },
    {
      "cell_type": "markdown",
      "source": [
        " 4. What is the purpose of the `return` statement in a Python function?\n",
        "\n",
        " The return statement is used to:\n",
        "\n",
        "Exit a function: When the return statement is encountered, the function immediately terminates, and control is passed back to the caller.\n",
        "\n",
        "Return a value: The return statement can be used to send a value back to the caller of the function. This value can be of any data type, including numbers, strings, lists, dictionaries, or even other functions.\n",
        "\n",
        "Syntax\n",
        "\n",
        "return [expression]\n",
        "Use code with caution\n",
        "expression (optional): The value to be returned. If omitted, the function returns None.\n",
        "\n"
      ],
      "metadata": {
        "id": "x9NYT6S3-mHY"
      }
    },
    {
      "cell_type": "code",
      "source": [
        "def add(x, y):\n",
        "  \"\"\"This function adds two numbers and returns the result.\"\"\"\n",
        "  result = x + y\n",
        "  return result\n",
        "\n",
        "sum = add(5, 3)  # Calling the function and storing the returned value in 'sum'\n",
        "print(sum)  # Output: 8"
      ],
      "metadata": {
        "id": "oqWV1_kV_EnD"
      },
      "execution_count": null,
      "outputs": []
    },
    {
      "cell_type": "markdown",
      "source": [
        "Important Considerations\n",
        "\n",
        "Multiple return statements: A function can have multiple return statements, but only one will be executed during a single function call. Once a return statement is executed, the function terminates.\n",
        "Returning None: If a function does not have a return statement or if the return statement is without an expression, the function implicitly returns None.\n",
        "Benefits of Using return\n",
        "\n",
        "Reusability: By returning a value, the function's output can be used in other parts of the program.\n",
        "Modularity: Functions with return statements promote modularity, making code easier to understand and maintain.\n",
        "Flexibility: The returned value can be used in various ways, such as assigning it to a variable, passing it to another function, or using it in an expression."
      ],
      "metadata": {
        "id": "MLcS9Bys_I31"
      }
    },
    {
      "cell_type": "markdown",
      "source": [
        "5 . What are iterators in Python and how do they differ from iterables?\n",
        "\n",
        "\n",
        "Iterables\n",
        "\n",
        "An iterable is any Python object capable of returning its members one at a time, allowing it to be iterated over in a for loop.\n",
        "Examples of iterables include lists, tuples, strings, dictionaries, sets, and files.\n",
        "Iterables have a __iter__ method that returns an iterator object.\n",
        "\n",
        "\n",
        "Iterators\n",
        "\n",
        "An iterator is an object that represents a stream of data.\n",
        "It implements the iterator protocol, which consists of two methods:\n",
        "__iter__: Returns the iterator object itself.\n",
        "__next__: Returns the next item in the stream. When there are no more items, it raises a StopIteration exception.\n",
        "Iterators are used to retrieve elements from an iterable one by one.\n",
        "Key Differences\n",
        "\n",
        "Feature\tIterable\tIterator\n",
        "Definition\tAn object that can be iterated over\tAn object that represents a stream of data\n",
        "Methods\t__iter__\t__iter__, __next__\n",
        "Usage\tUsed in for loops\tUsed to retrieve elements one by one\n",
        "State\tDoes not store iteration state\tStores the current position of iteratio"
      ],
      "metadata": {
        "id": "ai0IlfSa_Rn7"
      }
    },
    {
      "cell_type": "code",
      "source": [
        "# Create an iterable (list)\n",
        "my_list = [1, 2, 3]\n",
        "\n",
        "# Get an iterator from the iterable\n",
        "my_iterator = iter(my_list)\n",
        "\n",
        "# Iterate using the iterator\n",
        "print(next(my_iterator))  # Output: 1\n",
        "print(next(my_iterator))  # Output: 2\n",
        "print(next(my_iterator))  # Output: 3\n",
        "# print(next(my_iterator))  # Raises StopIteration exception"
      ],
      "metadata": {
        "id": "qvrBMhEK_zA9"
      },
      "execution_count": null,
      "outputs": []
    },
    {
      "cell_type": "markdown",
      "source": [
        "6. Explain the concept of generators in Python and how they are defined.\n",
        "\n",
        "Generators\n",
        "\n",
        "Generators are a special type of iterator that can be defined using functions with the yield keyword.\n",
        "They are a simple and powerful tool for creating iterators.\n",
        "Instead of returning a single value, generators yield a sequence of values one at a time.\n",
        "They are memory-efficient, as they generate values on demand rather than storing them all in memory.\n",
        "How Generators are Defined\n",
        "\n",
        "Generators are defined like regular functions but use the yield keyword instead of return.\n",
        "When a generator function is called, it returns a generator object.\n",
        "The generator object can then be iterated over to retrieve the yielded values."
      ],
      "metadata": {
        "id": "Jtiss5Va_1gx"
      }
    },
    {
      "cell_type": "code",
      "source": [
        "def my_generator(n):\n",
        "    for i in range(n):\n",
        "        yield i\n",
        "\n",
        "# Create a generator object\n",
        "gen = my_generator(5)\n",
        "\n",
        "# Iterate over the generator\n",
        "for value in gen:\n",
        "    print(value)  # Output: 0, 1, 2, 3, 4"
      ],
      "metadata": {
        "id": "JqQoQk6nAHRX"
      },
      "execution_count": null,
      "outputs": []
    },
    {
      "cell_type": "markdown",
      "source": [
        "Benefits of Using Generators\n",
        "\n",
        "Memory Efficiency: Generators only generate values when needed, saving memory, especially for large datasets.\n",
        "Lazy Evaluation: Values are generated on demand, improving performance by avoiding unnecessary calculations.\n",
        "Readability: Generators can simplify code by encapsulating complex iteration logic.\n",
        "Infinite Sequences: Generators can represent infinite sequences, such as a sequence of Fibonacci numbers."
      ],
      "metadata": {
        "id": "5d66XyJgALnK"
      }
    },
    {
      "cell_type": "markdown",
      "source": [
        "7. What are the advantages of using generators over regular functions?\n",
        "Advantages of Generators over Regular Functions\n",
        "\n",
        "Memory Efficiency:\n",
        "\n",
        "Generators generate values on demand, one at a time, rather than storing them all in memory at once. This makes them significantly more memory-efficient, especially when dealing with large datasets or infinite sequences.\n",
        "Regular functions, on the other hand, typically create and store the entire result in memory before returning it, which can lead to memory issues for large outputs.\n",
        "Lazy Evaluation:\n",
        "\n",
        "Generators use lazy evaluation, meaning they only compute and yield values as they are needed. This can significantly improve performance, especially in cases where not all values need to be processed.\n",
        "Regular functions compute the entire result upfront, even if only a portion of it is needed, which can waste computation time.\n",
        "Improved Readability and Conciseness:\n",
        "\n",
        "Generators often lead to more concise and readable code, particularly when dealing with complex iterations or sequences. The yield keyword simplifies the logic of generating values step-by-step.\n",
        "Regular functions might require more complex loops and data structures to achieve the same functionality.\n",
        "Representing Infinite Sequences:\n",
        "\n",
        "Generators are ideal for representing infinite sequences, such as a stream of random numbers or a Fibonacci sequence. They can generate values indefinitely without consuming excessive memory.\n",
        "Regular functions cannot represent infinite sequences directly, as they would need to store an infinite number of values in memory.\n",
        "Pipeline Processing:\n",
        "\n",
        "Generators can be chained together to create data pipelines, where the output of one generator becomes the input of another. This allows for efficient and modular data processing.\n",
        "Regular functions require intermediate storage and more explicit data passing to achieve the same effect."
      ],
      "metadata": {
        "id": "jk6xZONcAOlA"
      }
    },
    {
      "cell_type": "markdown",
      "source": [
        "8. What is a lambda function in Python and when is it typically used?\n",
        "\n",
        "What is a Lambda Function?\n",
        "\n",
        "A lambda function is a small, anonymous function defined using the lambda keyword.\n",
        "It can have any number of arguments but can only have one expression.\n",
        "The expression is evaluated and returned when the function is called.\n",
        "Lambda functions are also known as anonymous functions because they don't have a name like regular functions defined with the def keyword.\n",
        "Syntax\n",
        "\n",
        "lambda arguments: expression\n",
        "\n",
        "arguments: Comma-separated list of input arguments.\n",
        "expression: A single expression that is evaluated and returned"
      ],
      "metadata": {
        "id": "MylKIK61Aedz"
      }
    },
    {
      "cell_type": "code",
      "source": [
        "# Regular function\n",
        "def square(x):\n",
        "  return x * x\n",
        "\n",
        "# Lambda function\n",
        "square_lambda = lambda x: x * x\n",
        "\n",
        "# Both functions achieve the same result\n",
        "print(square(5))  # Output: 25\n",
        "print(square_lambda(5))  # Output: 25"
      ],
      "metadata": {
        "id": "8cGufi6UA59y"
      },
      "execution_count": null,
      "outputs": []
    },
    {
      "cell_type": "markdown",
      "source": [
        "9. Explain the purpose and usage of the `map()` function in Python.\n",
        "\n",
        "Purpose of the map() Function\n",
        "\n",
        "The map() function applies a given function to each item of an iterable (e.g., list, tuple) and returns an iterator that yields the results. It essentially \"maps\" the function to each element of the iterable.\n",
        "\n",
        "Syntax\n",
        "\n",
        "map(function, iterable, ...)\n",
        "\n",
        "function: The function to be applied to each item of the iterable.\n",
        "iterable: The iterable containing the items to be processed.\n",
        "...: Optional additional iterables. If provided, the function must take that many arguments and is applied to the items from all iterables in parallel.\n",
        "Usage\n",
        "\n",
        "Applying a Function to Each Element:\n",
        "numbers = [1, 2, 3, 4, 5]\n",
        "   squared_numbers = map(lambda x: x**2, numbers)\n",
        "   print(list(squared_numbers))  # Output: [1, 4, 9, 16, 25]\n",
        "Use code with caution\n",
        "In this example, the lambda function lambda x: x**2 is applied to each element of the numbers list, resulting in a new iterator squared_numbers. To get the actual results, we convert the iterator to a list using list().\n",
        "\n",
        "Processing Multiple Iterables in Parallel:"
      ],
      "metadata": {
        "id": "XFA-8XmIA8lq"
      }
    },
    {
      "cell_type": "code",
      "source": [
        "numbers1 = [1, 2, 3]\n",
        "   numbers2 = [4, 5, 6]\n",
        "   sums = map(lambda x, y: x + y, numbers1, numbers2)\n",
        "   print(list(sums))  # Output: [5, 7, 9]"
      ],
      "metadata": {
        "id": "C67I9fb7BVj0"
      },
      "execution_count": null,
      "outputs": []
    },
    {
      "cell_type": "markdown",
      "source": [
        "10. What is the difference between `map()`, `reduce()`, and `filter()` functions in Python?\n",
        "\n",
        "map(), reduce(), and filter()\n",
        "\n",
        "These three functions are built-in higher-order functions in Python that operate on iterables and provide a functional programming approach to data processing. They each serve a distinct purpose:\n",
        "\n",
        "Function\tPurpose\tInput\tOutput\n",
        "map()\tApplies a function to each item of an iterable\tA function and one or more iterables\tAn iterator yielding the results\n",
        "reduce()\tApplies a function cumulatively to the items of an iterable, reducing it to a single value\tA function and an iterable\tA single value\n",
        "filter()\tFilters an iterable based on a function that returns True or False for each item\tA function and an iterable\tAn iterator yielding the filtered items"
      ],
      "metadata": {
        "id": "qMyi5AniBX1M"
      }
    },
    {
      "cell_type": "code",
      "source": [
        "# map() example: squaring numbers\n",
        "numbers = [1, 2, 3, 4, 5]\n",
        "squared_numbers = list(map(lambda x: x**2, numbers))\n",
        "# Output: [1, 4, 9, 16, 25]\n",
        "\n",
        "# reduce() example: summing numbers\n",
        "from functools import reduce  # Import reduce from functools\n",
        "numbers = [1, 2, 3, 4, 5]\n",
        "sum_of_numbers = reduce(lambda x, y: x + y, numbers)\n",
        "# Output: 15\n",
        "\n",
        "# filter() example: selecting even numbers\n",
        "numbers = [1, 2, 3, 4, 5, 6]\n",
        "even_numbers = list(filter(lambda x: x % 2 == 0, numbers))\n",
        "# Output: [2, 4, 6]"
      ],
      "metadata": {
        "id": "1n3-OzFuBwL2"
      },
      "execution_count": null,
      "outputs": []
    },
    {
      "cell_type": "markdown",
      "source": [
        "Key Differences\n",
        "\n",
        "Functionality:\n",
        "\n",
        "map() transforms each item of an iterable.\n",
        "reduce() aggregates the items of an iterable into a single value.\n",
        "filter() selects items from an iterable based on a condition.\n",
        "Input:\n",
        "\n",
        "map() takes a function and one or more iterables.\n",
        "reduce() takes a function and an iterable.\n",
        "filter() takes a function and an iterable.\n",
        "Output:\n",
        "\n",
        "map() returns an iterator yielding the transformed items.\n",
        "reduce() returns a single accumulated value.\n",
        "filter() returns an iterator yielding the selected items.\n",
        "Usage:\n",
        "\n",
        "map() is used for applying a function to each element independently.\n",
        "reduce() is used for cumulative computations, like sum, product, or finding the maximum/minimum.\n",
        "filter() is used for selecting elements based on a specific criterion.\n",
        "In Essence:\n",
        "\n",
        "map() applies a function to each element.\n",
        "reduce() combines elements using a function.\n",
        "filter() selects elements based on a function's condition."
      ],
      "metadata": {
        "id": "To_2clVrB2rb"
      }
    },
    {
      "cell_type": "markdown",
      "source": [
        "11. Using pen & Paper write the internal mechanism for sum operation using  reduce function on this given\n",
        "list:[47,11,42,13];\n",
        "\n",
        "Internal Mechanism of reduce for Sum Operation\n",
        "\n",
        "Initialization:\n",
        "\n",
        "The reduce function takes two arguments: a function (in this case, addition) and an iterable (the list [47, 11, 42, 13]).\n",
        "It initializes an accumulator variable with the first element of the list (47).\n",
        "Iteration:\n",
        "\n",
        "The reduce function iterates through the remaining elements of the list.\n",
        "For each element, it applies the provided function (addition) to the accumulator and the current element.\n",
        "The result of this operation becomes the new value of the accumulator.\n",
        "Steps:\n",
        "\n",
        "Step 1: Accumulator (47) + Current Element (11) = 58. Accumulator is now 58.\n",
        "Step 2: Accumulator (58) + Current Element (42) = 100. Accumulator is now 100.\n",
        "Step 3: Accumulator (100) + Current Element (13) = 113. Accumulator is now 113.\n",
        "Result:\n",
        "\n",
        "After processing all elements, the final value of the accumulator (113) is returned as the result of the reduce function.\n",
        "In a nutshell, reduce works like this for the sum operation:"
      ],
      "metadata": {
        "id": "gV0y7LcuB4aR"
      }
    },
    {
      "cell_type": "markdown",
      "source": [],
      "metadata": {
        "id": "Vd0Vxrg9CqDT"
      }
    },
    {
      "cell_type": "code",
      "source": [
        "accumulator = list[0]  # Initialize with the first element\n",
        "for element in list[1:]:  # Iterate through remaining elements\n",
        "    accumulator = accumulator + element  # Apply addition\n",
        "return accumulator  # Return the final accumulated value"
      ],
      "metadata": {
        "id": "LsmdXlWoCfU_"
      },
      "execution_count": null,
      "outputs": []
    },
    {
      "cell_type": "markdown",
      "source": [
        "12 Write a Python function that takes a list of numbers as input and returns the sum of all even numbers in\n",
        "the list."
      ],
      "metadata": {
        "id": "-3SZAyLhCjB2"
      }
    },
    {
      "cell_type": "code",
      "source": [
        "def sum_of_even_numbers(numbers):\n",
        "  \"\"\"\n",
        "  Calculates the sum of all even numbers in a list.\n",
        "\n",
        "  Args:\n",
        "    numbers: A list of numbers.\n",
        "\n",
        "  Returns:\n",
        "    The sum of all even numbers in the list.\n",
        "  \"\"\"\n",
        "  even_sum = 0\n",
        "  for number in numbers:\n",
        "    if number % 2 == 0:  # Check if the number is even\n",
        "      even_sum += number  # Add even number to the sum\n",
        "  return even_sum\n",
        "\n",
        "# Example usage\n",
        "numbers = [1, 2, 3, 4, 5, 6]\n",
        "even_sum = sum_of_even_numbers(numbers)\n",
        "print(f\"Sum of even numbers: {even_sum}\")  # Output: Sum of even numbers: 12"
      ],
      "metadata": {
        "id": "1dubssFXC9Iv"
      },
      "execution_count": null,
      "outputs": []
    },
    {
      "cell_type": "markdown",
      "source": [
        "13 Create a Python function that accepts a string and returns the reverse of that string."
      ],
      "metadata": {
        "id": "DnM8wDCdC-hy"
      }
    },
    {
      "cell_type": "code",
      "source": [
        "def reverse_string(string):\n",
        "  \"\"\"\n",
        "  Reverses a given string.\n",
        "\n",
        "  Args:\n",
        "    string: The string to be reversed.\n",
        "\n",
        "  Returns:\n",
        "    The reversed string.\n",
        "  \"\"\"\n",
        "  return string[::-1]\n",
        "\n",
        "# Example usage\n",
        "string = \"hello\"\n",
        "reversed_string = reverse_string(string)\n",
        "print(f\"Reversed string: {reversed_string}\")  # Output: Reversed string: olleh"
      ],
      "metadata": {
        "id": "1BVj1sMMDQM5"
      },
      "execution_count": null,
      "outputs": []
    },
    {
      "cell_type": "markdown",
      "source": [
        "14 Implement a Python function that takes a list of integers and returns a new list containing the squares of\n",
        "each number."
      ],
      "metadata": {
        "id": "4HrdDcWrDhbY"
      }
    },
    {
      "cell_type": "code",
      "source": [
        "def square_numbers(numbers):\n",
        "  \"\"\"\n",
        "  Squares each number in a list and returns a new list.\n",
        "\n",
        "  Args:\n",
        "    numbers: A list of integers.\n",
        "\n",
        "  Returns:\n",
        "    A new list containing the squares of each number.\n",
        "  \"\"\"\n",
        "  squared_numbers = []\n",
        "  for number in numbers:\n",
        "    squared_numbers.append(number**2)  # Square the number and add it to the new list\n",
        "  return squared_numbers\n",
        "\n",
        "# Example usage\n",
        "numbers = [1, 2, 3, 4, 5]\n",
        "squared_numbers = square_numbers(numbers)\n",
        "print(f\"Squared numbers: {squared_numbers}\")  # Output: Squared numbers: [1, 4, 9, 16, 25]"
      ],
      "metadata": {
        "id": "nc0IcpdyDwQv"
      },
      "execution_count": null,
      "outputs": []
    },
    {
      "cell_type": "markdown",
      "source": [
        "15  Write a Python function that checks if a given number is prime or not from 1 to 200."
      ],
      "metadata": {
        "id": "sGZl2iRyDynv"
      }
    },
    {
      "cell_type": "code",
      "source": [
        "def is_prime(number):\n",
        "  \"\"\"\n",
        "  Checks if a given number is prime or not.\n",
        "\n",
        "  Args:\n",
        "    number: The number to check.\n",
        "\n",
        "  Returns:\n",
        "    True if the number is prime, False otherwise.\n",
        "  \"\"\"\n",
        "  if number <= 1:\n",
        "    return False  # Numbers less than or equal to 1 are not prime\n",
        "  for i in range(2, int(number**0.5) + 1):\n",
        "    if number % i == 0:\n",
        "      return False  # If divisible by any number in the range, it's not prime\n",
        "  return True  # If not divisible by any number, it's prime\n",
        "\n",
        "# Example usage\n",
        "for num in range(1, 201):\n",
        "  if is_prime(num):\n",
        "    print(f\"{num} is a prime number\")"
      ],
      "metadata": {
        "id": "ktYUl7_sEJ69"
      },
      "execution_count": null,
      "outputs": []
    },
    {
      "cell_type": "markdown",
      "source": [
        "16 Create an iterator class in Python that generates the Fibonacci sequence up to a specified number of\n",
        "terms.\n",
        "\n"
      ],
      "metadata": {
        "id": "F55xBmY1ELQH"
      }
    },
    {
      "cell_type": "code",
      "source": [
        "class FibonacciIterator:\n",
        "    \"\"\"\n",
        "    An iterator class that generates the Fibonacci sequence up to a specified number of terms.\n",
        "    \"\"\"\n",
        "\n",
        "    def __init__(self, num_terms):\n",
        "        \"\"\"\n",
        "        Initializes the FibonacciIterator with the number of terms to generate.\n",
        "\n",
        "        Args:\n",
        "            num_terms: The number of Fibonacci terms to generate.\n",
        "        \"\"\"\n",
        "        self.num_terms = num_terms\n",
        "        self.count = 0\n",
        "        self.a, self.b = 0, 1\n",
        "\n",
        "    def __iter__(self):\n",
        "        \"\"\"\n",
        "        Returns the iterator object itself.\n",
        "\n",
        "        Returns:\n",
        "            The iterator object.\n",
        "        \"\"\"\n",
        "        return self\n",
        "\n",
        "    def __next__(self):\n",
        "        \"\"\"\n",
        "        Returns the next Fibonacci number in the sequence.\n",
        "\n",
        "        Returns:\n",
        "            The next Fibonacci number.\n",
        "\n",
        "        Raises:\n",
        "            StopIteration: If the specified number of terms has been generated.\n",
        "        \"\"\"\n",
        "        if self.count < self.num_terms:\n",
        "            fib_num = self.a\n",
        "            self.a, self.b = self.b, self.a + self.b\n",
        "            self.count += 1\n",
        "            return fib_num\n",
        "        else:\n",
        "            raise StopIteration\n",
        "\n",
        "# Example usage\n",
        "fib_iter = FibonacciIterator(10)  # Generate 10 Fibonacci numbers\n",
        "for num in fib_iter:\n",
        "    print(num)  # Print each Fibonacci number"
      ],
      "metadata": {
        "id": "3pub_7RdEzmV"
      },
      "execution_count": null,
      "outputs": []
    },
    {
      "cell_type": "markdown",
      "source": [
        "17 . Write a generator function in Python that yields the powers of 2 up to a given exponent"
      ],
      "metadata": {
        "id": "YJF4Lcj_E1Zb"
      }
    },
    {
      "cell_type": "code",
      "source": [
        "def powers_of_2(exponent):\n",
        "  \"\"\"\n",
        "  Generates the powers of 2 up to a given exponent.\n",
        "\n",
        "  Args:\n",
        "    exponent: The maximum exponent.\n",
        "\n",
        "  Yields:\n",
        "    The powers of 2.\n",
        "  \"\"\"\n",
        "  for i in range(exponent + 1):\n",
        "    yield 2**i\n",
        "\n",
        "# Example usage\n",
        "for power in powers_of_2(5):\n",
        "  print(power)  # Output: 1, 2, 4, 8, 16, 32"
      ],
      "metadata": {
        "id": "Zg8BneSpFMpg"
      },
      "execution_count": null,
      "outputs": []
    },
    {
      "cell_type": "markdown",
      "source": [
        "18 Implement a generator function that reads a file line by line and yields each line as a string."
      ],
      "metadata": {
        "id": "83Mb48Z7FN0w"
      }
    },
    {
      "cell_type": "code",
      "source": [
        "def read_file_line_by_line(file_path):\n",
        "  \"\"\"\n",
        "  Reads a file line by line and yields each line as a string.\n",
        "\n",
        "  Args:\n",
        "    file_path: The path to the file.\n",
        "\n",
        "  Yields:\n",
        "    Each line of the file as a string.\n",
        "  \"\"\"\n",
        "  with open(file_path, 'r') as file:\n",
        "    for line in file:\n",
        "      yield line.strip()  # Strip leading/trailing whitespace\n",
        "\n",
        "# Example usage\n",
        "file_path = 'my_file.txt'  # Replace with your file path\n",
        "for line in read_file_line_by_line(file_path):\n",
        "  print(line)"
      ],
      "metadata": {
        "id": "1HDsTgO2Fd5R"
      },
      "execution_count": null,
      "outputs": []
    },
    {
      "cell_type": "markdown",
      "source": [
        "19 . Use a lambda function in Python to sort a list of tuples based on the second element of each tuple"
      ],
      "metadata": {
        "id": "NkC4e3MqFe_1"
      }
    },
    {
      "cell_type": "code",
      "source": [
        "# Sample list of tuples\n",
        "tuples_list = [('apple', 3), ('banana', 1), ('orange', 2)]\n",
        "\n",
        "# Sort the list based on the second element using a lambda function\n",
        "sorted_tuples = sorted(tuples_list, key=lambda item: item[1])\n",
        "\n",
        "# Print the sorted list\n",
        "print(sorted_tuples)  # Output: [('banana', 1), ('orange', 2), ('apple', 3)]"
      ],
      "metadata": {
        "id": "CEjZ4lTMG9EK"
      },
      "execution_count": null,
      "outputs": []
    },
    {
      "cell_type": "markdown",
      "source": [
        "20 . Write a Python program that uses `map()` to convert a list of temperatures from Celsius to Fahrenheit"
      ],
      "metadata": {
        "id": "TbJbtDDnG_1N"
      }
    },
    {
      "cell_type": "code",
      "source": [
        "def celsius_to_fahrenheit(celsius):\n",
        "  \"\"\"Converts a temperature from Celsius to Fahrenheit.\"\"\"\n",
        "  return (celsius * 9/5) + 32\n",
        "\n",
        "# List of Celsius temperatures\n",
        "celsius_temperatures = [0, 10, 20, 30, 40]\n",
        "\n",
        "# Use map() to convert to Fahrenheit\n",
        "fahrenheit_temperatures = list(map(celsius_to_fahrenheit, celsius_temperatures))\n",
        "\n",
        "# Print the Fahrenheit temperatures\n",
        "print(fahrenheit_temperatures)  # Output: [32.0, 50.0, 68.0, 86.0, 104.0]"
      ],
      "metadata": {
        "id": "6EVpDe6eHfq_"
      },
      "execution_count": null,
      "outputs": []
    },
    {
      "cell_type": "markdown",
      "source": [
        "21 Create a Python program that uses `filter()` to remove all the vowels from a given string."
      ],
      "metadata": {
        "id": "dYPNE_fOHhdC"
      }
    },
    {
      "cell_type": "code",
      "source": [
        "def remove_vowels(string):\n",
        "  \"\"\"Removes all vowels from a given string.\"\"\"\n",
        "  vowels = \"aeiouAEIOU\"\n",
        "  return \"\".join(filter(lambda char: char not in vowels, string))\n",
        "\n",
        "# Example usage\n",
        "string = \"Hello, World!\"\n",
        "filtered_string = remove_vowels(string)\n",
        "print(f\"String without vowels: {filtered_string}\")  # Output: String without vowels: Hll, Wrld!"
      ],
      "metadata": {
        "id": "b7sEYqHxcBZ7"
      },
      "execution_count": null,
      "outputs": []
    },
    {
      "cell_type": "markdown",
      "source": [
        "22  Imagine an accounting routine used in a book shop. It works on a list with sublists, which look like this:\n",
        "\n",
        "\n",
        "\n",
        "\n",
        "\n",
        "\n",
        "\n",
        "Write a Python program, which returns a list with 2-tuples. Each tuple consists of the order number and the\n",
        "product of the price per item and the quantity. The product should be increased by 10,- € if the value of the\n",
        "order is smaller than 100,00 €.\n",
        "\n",
        "Write a Python program using lambda and map"
      ],
      "metadata": {
        "id": "fk-ATHdscDV4"
      }
    },
    {
      "cell_type": "code",
      "source": [
        "orders = [ [\"34587\", \"Learning Python, Mark Lutz\", 4, 40.95],\n",
        "           [\"98762\", \"Programming Python, Mark Lutz\", 5, 56.80],\n",
        "           [\"77226\", \"Head First Python, Paul Barry\", 3,32.95],\n",
        "           [\"88112\", \"Einführung in Python3, Bernd Klein\", 3, 24.99]]\n",
        "\n",
        "invoice_totals = list(map(lambda x: (x[0], x[2] * x[3] if x[2] * x[3] >= 100 else x[2] * x[3] + 10), orders))\n",
        "\n",
        "print(invoice_totals)\n",
        "# Expected Output:\n",
        "# [('34587', 163.8), ('98762', 284.0), ('77226', 108.85), ('88112', 84.97)]"
      ],
      "metadata": {
        "id": "fPCfK0uDcgE0"
      },
      "execution_count": null,
      "outputs": []
    },
    {
      "cell_type": "markdown",
      "source": [],
      "metadata": {
        "id": "nh17QBiAHBRC"
      }
    }
  ]
}